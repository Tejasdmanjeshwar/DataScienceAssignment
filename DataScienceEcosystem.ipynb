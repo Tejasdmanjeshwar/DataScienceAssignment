{
 "cells": [
  {
   "cell_type": "markdown",
   "id": "edd0c7ad",
   "metadata": {},
   "source": [
    "# Data Science Tools and Ecosystem #"
   ]
  },
  {
   "cell_type": "markdown",
   "id": "86ee0df3",
   "metadata": {},
   "source": [
    "In this notebook, Data Science Tools and Ecosystem are summarized."
   ]
  },
  {
   "cell_type": "markdown",
   "id": "5ae8329c",
   "metadata": {},
   "source": [
    "**Objectives:**\n",
    "* List popular languages for Data Science\n",
    "* List commonly used libraries used by Data Scientists\n",
    "* Create a single column table in this cell with the first row containing the header 'Data Science Tools'. The subsequent three rows in the table should indicate three development environment open source tools used in data science.\n",
    "* Evaluating arithmetic expressions in Python"
   ]
  },
  {
   "cell_type": "markdown",
   "id": "c7c63b8b",
   "metadata": {},
   "source": [
    "Some of the popular languages that Data Scientists use are:\n",
    "1. Python\n",
    "2. R\n",
    "3. Julia"
   ]
  },
  {
   "attachments": {},
   "cell_type": "markdown",
   "id": "b5a045f9",
   "metadata": {},
   "source": [
    "Some of the commonly used libraries used by Data Scientists include:\n",
    "1. Pandas \n",
    "2. NumPy\n",
    "3. SciPy\n",
    "4. Matplotlib."
   ]
  },
  {
   "cell_type": "markdown",
   "id": "68418dfa",
   "metadata": {},
   "source": [
    "| Data Science Tools |\n",
    "|--------------------|\n",
    "| Jupyter Notebook   |\n",
    "| RStudio |\n",
    "| Watson Studio |"
   ]
  },
  {
   "cell_type": "markdown",
   "id": "40a1ed3f",
   "metadata": {},
   "source": [
    "### Below are a few examples of evaluating arithmetic expressions in Python ###"
   ]
  },
  {
   "cell_type": "code",
   "execution_count": 1,
   "id": "f7caf9f1",
   "metadata": {},
   "outputs": [
    {
     "data": {
      "text/plain": [
       "17"
      ]
     },
     "execution_count": 1,
     "metadata": {},
     "output_type": "execute_result"
    }
   ],
   "source": [
    "(3*4)+5"
   ]
  },
  {
   "cell_type": "code",
   "execution_count": 2,
   "id": "b37de50d",
   "metadata": {},
   "outputs": [
    {
     "data": {
      "text/plain": [
       "3.3333333333333335"
      ]
     },
     "execution_count": 2,
     "metadata": {},
     "output_type": "execute_result"
    }
   ],
   "source": [
    "minutes = 200\n",
    "hours = minutes/60\n",
    "hours"
   ]
  },
  {
   "cell_type": "markdown",
   "id": "fe1d6de3",
   "metadata": {},
   "source": [
    "## Author ##\n",
    "Tejas"
   ]
  },
  {
   "cell_type": "code",
   "execution_count": null,
   "id": "21b33ae9",
   "metadata": {},
   "outputs": [],
   "source": []
  }
 ],
 "metadata": {
  "kernelspec": {
   "display_name": "Python 3 (ipykernel)",
   "language": "python",
   "name": "python3"
  },
  "language_info": {
   "codemirror_mode": {
    "name": "ipython",
    "version": 3
   },
   "file_extension": ".py",
   "mimetype": "text/x-python",
   "name": "python",
   "nbconvert_exporter": "python",
   "pygments_lexer": "ipython3",
   "version": "3.9.16"
  }
 },
 "nbformat": 4,
 "nbformat_minor": 5
}
